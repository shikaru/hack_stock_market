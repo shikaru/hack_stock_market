{
 "cells": [
  {
   "cell_type": "code",
   "execution_count": 1,
   "metadata": {},
   "outputs": [
    {
     "name": "stdout",
     "output_type": "stream",
     "text": [
      "Requirement already satisfied: selenium in c:\\users\\ring1\\anaconda3\\lib\\site-packages (3.141.0)\n",
      "Requirement already satisfied: urllib3 in c:\\users\\ring1\\anaconda3\\lib\\site-packages (from selenium) (1.25.9)\n",
      "Requirement already satisfied: chromedriver-binary==89.0.4389.23 in c:\\users\\ring1\\anaconda3\\lib\\site-packages (89.0.4389.23.0)\n",
      "Requirement already satisfied: beautifulsoup4 in c:\\users\\ring1\\anaconda3\\lib\\site-packages (4.9.1)\n",
      "Requirement already satisfied: soupsieve>1.2 in c:\\users\\ring1\\anaconda3\\lib\\site-packages (from beautifulsoup4) (2.0.1)\n"
     ]
    }
   ],
   "source": [
    "!pip install selenium\n",
    "from selenium.webdriver import Chrome,ChromeOptions,Remote\n",
    "from selenium.webdriver.common.keys import Keys\n",
    "import time\n",
    "!pip install chromedriver-binary==89.0.4389.23\n",
    "import chromedriver_binary\n",
    "\n",
    "!pip3 install beautifulsoup4\n",
    "from bs4 import BeautifulSoup\n",
    "import os"
   ]
  },
  {
   "cell_type": "code",
   "execution_count": 3,
   "metadata": {},
   "outputs": [],
   "source": [
    "def buying_stock(code):\n",
    "    ##初期設定:quitすると毎回設定する必要があるため必須＊０\n",
    "    options = ChromeOptions()\n",
    "    options.headless = True\n",
    "    driver = Chrome(options=options)\n",
    "    handle_array = driver.window_handles\n",
    "    \n",
    "    ##ユーザー名、ログインパスワード、取引パスワード等の変数を宣言＊１\n",
    "    user_id = \"LQRW6357\"\n",
    "    login_password = \"oga2gdesu\"\n",
    "    trading_password = \"1720\"\n",
    "    login_url = \"https://www.rakuten-sec.co.jp/ITS/V_ACT_Login.html\"\n",
    "    \n",
    "    ##ログイン画面＊２\n",
    "    driver.get(login_url)\n",
    "\n",
    "    login_id = driver.find_element_by_id('form-login-id')\n",
    "    login_pass = driver.find_element_by_id('form-login-pass')\n",
    "    login_btn =  driver.find_element_by_id('login-btn')\n",
    "\n",
    "    login_id.send_keys(user_id)\n",
    "    login_pass.send_keys(login_password)\n",
    "    login_btn.click()\n",
    "    \n",
    "    ##注文画面まで＊３\n",
    "    order_btn = driver.find_element_by_xpath('//*[@id=\"top\"]/div[1]/div/div[3]/div/ul/li[2]/div')\n",
    "    order_btn.click()\n",
    "    us_order_btn = driver.find_element_by_xpath('//*[@id=\"top\"]/div[1]/div/div[3]/div/ul/li[2]/ul/li[2]')\n",
    "    us_order_btn.click()\n",
    "    \n",
    "    ##買い注文画面からコード入力→次の画面まで＊４\n",
    "    stock_search = driver.find_element_by_name('dscr')\n",
    "    stock_search.send_keys(code)\n",
    "    search_btn = driver.find_element_by_xpath('//*[@id=\"str-main-inner\"]/table/tbody/tr/td/form/div[4]/fieldset/p/input[2]')\n",
    "    search_btn.click()\n",
    "    \n",
    "    ##買いの発注内容の指示を行う（数量1、成行、円貨購入、特定）＊５\n",
    "    number_of_order = driver.find_element_by_name('orderValue')\n",
    "    market_btn = driver.find_element_by_id('priceMarket')\n",
    "    usd_btn = driver.find_element_by_id('settlementCurrencyUSD')\n",
    "    order = driver.find_element_by_xpath('//*[@id=\"form\"]/table[7]/tbody/tr/td/div/input')\n",
    "\n",
    "    number_of_order.send_keys(1)\n",
    "    market_btn.click()\n",
    "    usd_btn.click()\n",
    "    order.click()\n",
    "\n",
    "    ##取引暗証番号入力→実行まで＊６\n",
    "    security_password = driver.find_element_by_name('password')\n",
    "    last_order_btn = driver.find_element_by_id('sbm')\n",
    "\n",
    "    security_password.send_keys(trading_password)\n",
    "    last_order_btn.click()\n",
    "    \n",
    "    ##Chromeを閉じる＊７\n",
    "    driver.quit()\n",
    "    "
   ]
  },
  {
   "cell_type": "code",
   "execution_count": null,
   "metadata": {},
   "outputs": [],
   "source": []
  }
 ],
 "metadata": {
  "kernelspec": {
   "display_name": "Python 3",
   "language": "python",
   "name": "python3"
  },
  "language_info": {
   "codemirror_mode": {
    "name": "ipython",
    "version": 3
   },
   "file_extension": ".py",
   "mimetype": "text/x-python",
   "name": "python",
   "nbconvert_exporter": "python",
   "pygments_lexer": "ipython3",
   "version": "3.8.3"
  }
 },
 "nbformat": 4,
 "nbformat_minor": 4
}
